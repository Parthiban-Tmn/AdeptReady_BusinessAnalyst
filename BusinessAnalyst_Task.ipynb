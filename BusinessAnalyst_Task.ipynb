{
 "cells": [
  {
   "cell_type": "markdown",
   "metadata": {},
   "source": [
    "**2. Given an unsorted array of integers, find the length of the longest continuous increasing subsequence (subarray).**\n",
    "\n",
    "\n",
    "Example 1:\n",
    "Input: [1,3,5,4,7]\n",
    "Output: 3 \n",
    "\n",
    "\n",
    "Example 2:\n",
    "Input: [2,2,2,2,2]\n",
    "Output: 1\n"
   ]
  },
  {
   "cell_type": "code",
   "execution_count": 6,
   "metadata": {},
   "outputs": [
    {
     "name": "stdout",
     "output_type": "stream",
     "text": [
      "3\n",
      "1\n"
     ]
    }
   ],
   "source": [
    "def LLCIS(nums):\n",
    "    if not nums:\n",
    "        return 0\n",
    "    \n",
    "    longest_length = 1\n",
    "    current_length = 1\n",
    "    \n",
    "    for i in range(1, len(nums)):\n",
    "        if nums[i] > nums[i - 1]:\n",
    "            current_length += 1\n",
    "        else:\n",
    "            if current_length > longest_length:\n",
    "                longest_length = current_length\n",
    "            current_length = 1\n",
    "    \n",
    "    if current_length > longest_length:\n",
    "        longest_length = current_length\n",
    "    \n",
    "    return longest_length\n",
    "\n",
    "# Example usage:\n",
    "Sample_input1=[1, 3, 5, 4, 7]\n",
    "Sample_input2=[2, 2, 2, 2, 2]\n",
    "\n",
    "#User Input code\n",
    "#S=list(map(int,input().split(\",\")))\n",
    "\n",
    "\n",
    "print(LLCIS(Sample_input1))  # Output: 3\n",
    "print(LLCIS(Sample_input2))  # Output: 1\n"
   ]
  },
  {
   "cell_type": "markdown",
   "metadata": {},
   "source": [
    "---------------------------------------------------------------------------------------------------------------------------------------------------------"
   ]
  },
  {
   "cell_type": "markdown",
   "metadata": {},
   "source": [
    "**3. Given a list of non negative integers, arrange them such that they form the largest number.**\n",
    " \n",
    "Example 1:\n",
    "Input: [10,2]\n",
    "Output: \"210\"\n",
    "\n",
    "\n",
    "Example 2:\n",
    "Input: [3,30,34,5,9]\n",
    "Output: \"9534330\"\n"
   ]
  },
  {
   "cell_type": "code",
   "execution_count": 11,
   "metadata": {},
   "outputs": [
    {
     "name": "stdout",
     "output_type": "stream",
     "text": [
      "210\n",
      "9534330\n"
     ]
    }
   ],
   "source": [
    "def largestNumber(array):\n",
    "    #If there is only one element in the list, the element itself is the largest element. \n",
    "    if len(array)==1:  \n",
    "        return str(array[0])\n",
    "    \n",
    "    #convert a list into a string array.\n",
    "    for i in range(len(array)):\n",
    "        array[i]=str(array[i])\n",
    "\n",
    "\n",
    "    #find the largest element by swapping technique.\n",
    "    for i in range(len(array)):\n",
    "        for j in range(1+i,len(array)):\n",
    "            if array[j]+array[i]>array[i]+array[j]:\n",
    "                array[i],array[j]=array[j],array[i]\n",
    "\n",
    "\n",
    "    #JOIN function in Python\n",
    "    result=''.join(array)\n",
    "\n",
    "\n",
    "    #If all elements are 0, answer must be 0 \n",
    "    if(result=='0'*len(result)):\n",
    "        return '0'\n",
    "    else:\n",
    "        return result\n",
    "        \n",
    "# Example usage:\n",
    "Sample_input1=[10,2]\n",
    "Sample_input2=[3,30,34,5,9]\n",
    "\n",
    "\n",
    "#User Input code\n",
    "#S=list(map(int,input().split(\",\")))\n",
    "\n",
    "\n",
    "print(largestNumber(Sample_input1))\n",
    "print(largestNumber(Sample_input2))\n"
   ]
  },
  {
   "cell_type": "markdown",
   "metadata": {},
   "source": [
    "--------------------------------------------------------------------------------------------------------------------------------------------------------"
   ]
  },
  {
   "cell_type": "markdown",
   "metadata": {},
   "source": [
    "**4. Store all the \"servlet-name\", and \"servlet-class\" to a csv file from the attached sample_json.json file using Python.**"
   ]
  },
  {
   "cell_type": "code",
   "execution_count": 28,
   "metadata": {},
   "outputs": [],
   "source": [
    "import json\n",
    "import csv\n",
    "\n",
    "Path=\"C:\\\\Users\\\\Hp\\\\Desktop\\\\adept ready\\\\DT A1 sample_json.json\"\n",
    "# Load JSON data from file\n",
    "with open(Path) as f:\n",
    "    data = json.load(f)\n",
    "\n",
    "# Extract \"servlet-name\" and \"servlet-class\" from the JSON data\n",
    "servlets = []\n",
    "for servlet in data['web-app']['servlet']:\n",
    "    servlet_name = servlet['servlet-name']\n",
    "    servlet_class = servlet['servlet-class']\n",
    "    servlets.append((servlet_name, servlet_class))\n",
    "\n",
    "# Write to CSV file\n",
    "with open('servlet_data.csv', 'w', newline='') as csvfile:\n",
    "    fieldnames = ['servlet-name', 'servlet-class']\n",
    "    \n",
    "    # Create a CSV DictWriter object, specifying the field names\n",
    "    writer = csv.DictWriter(csvfile, fieldnames=fieldnames)\n",
    "    \n",
    "    # Write the header row containing the field names\n",
    "    writer.writeheader()\n",
    "\n",
    "    # Iterate over each servlet extracted from the JSON data\n",
    "    for servlet in servlets:\n",
    "        writer.writerow({'servlet-name': servlet[0], 'servlet-class': servlet[1]})"
   ]
  }
 ],
 "metadata": {
  "kernelspec": {
   "display_name": "Python 3",
   "language": "python",
   "name": "python3"
  },
  "language_info": {
   "codemirror_mode": {
    "name": "ipython",
    "version": 3
   },
   "file_extension": ".py",
   "mimetype": "text/x-python",
   "name": "python",
   "nbconvert_exporter": "python",
   "pygments_lexer": "ipython3",
   "version": "3.12.0"
  }
 },
 "nbformat": 4,
 "nbformat_minor": 2
}
