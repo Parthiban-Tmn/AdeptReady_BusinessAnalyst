{
 "cells": [
  {
   "cell_type": "markdown",
   "metadata": {},
   "source": [
    "**2. Given an unsorted array of integers, find the length of the longest continuous increasing subsequence (subarray).**\n",
    "\n",
    "\n",
    "Example 1:\n",
    "Input: [1,3,5,4,7]\n",
    "Output: 3 \n",
    "\n",
    "\n",
    "Example 2:\n",
    "Input: [2,2,2,2,2]\n",
    "Output: 1\n"
   ]
  },
  {
   "cell_type": "code",
   "execution_count": 6,
   "metadata": {},
   "outputs": [
    {
     "name": "stdout",
     "output_type": "stream",
     "text": [
      "3\n",
      "1\n"
     ]
    }
   ],
   "source": [
    "def LLCIS(nums):\n",
    "    if not nums:\n",
    "        return 0\n",
    "    \n",
    "    longest_length = 1\n",
    "    current_length = 1\n",
    "    \n",
    "    for i in range(1, len(nums)):\n",
    "        if nums[i] > nums[i - 1]:\n",
    "            current_length += 1\n",
    "        else:\n",
    "            if current_length > longest_length:\n",
    "                longest_length = current_length\n",
    "            current_length = 1\n",
    "    \n",
    "    if current_length > longest_length:\n",
    "        longest_length = current_length\n",
    "    \n",
    "    return longest_length\n",
    "\n",
    "# Example usage:\n",
    "Sample_input1=[1, 3, 5, 4, 7]\n",
    "Sample_input2=[2, 2, 2, 2, 2]\n",
    "\n",
    "#User Input code\n",
    "#S=list(map(int,input().split(\",\")))\n",
    "\n",
    "\n",
    "print(LLCIS(Sample_input1))\n",
    "print(LLCIS(Sample_input2))\n"
   ]
  },
  {
   "cell_type": "markdown",
   "metadata": {},
   "source": [
    "---------------------------------------------------------------------------------------------------------------------------------------------------------"
   ]
  },
  {
   "cell_type": "markdown",
   "metadata": {},
   "source": [
    "**3. Given a list of non negative integers, arrange them such that they form the largest number.**\n",
    " \n",
    "Example 1:\n",
    "Input: [10,2]\n",
    "Output: \"210\"\n",
    "\n",
    "\n",
    "Example 2:\n",
    "Input: [3,30,34,5,9]\n",
    "Output: \"9534330\"\n"
   ]
  },
  {
   "cell_type": "code",
   "execution_count": 11,
   "metadata": {},
   "outputs": [
    {
     "name": "stdout",
     "output_type": "stream",
     "text": [
      "210\n",
      "9534330\n"
     ]
    }
   ],
   "source": [
    "def largestNumber(array):\n",
    "    #If there is only one element in the list, the element itself is the largest element. \n",
    "    if len(array)==1:  \n",
    "        return str(array[0])\n",
    "    \n",
    "    #convert a list into a string array.\n",
    "    for i in range(len(array)):\n",
    "        array[i]=str(array[i])\n",
    "\n",
    "\n",
    "    #find the largest element by swapping technique.\n",
    "    for i in range(len(array)):\n",
    "        for j in range(1+i,len(array)):\n",
    "            if array[j]+array[i]>array[i]+array[j]:\n",
    "                array[i],array[j]=array[j],array[i]\n",
    "\n",
    "\n",
    "    #JOIN function in Python\n",
    "    result=''.join(array)\n",
    "\n",
    "\n",
    "    #If all elements are 0, answer must be 0 \n",
    "    if(result=='0'*len(result)):\n",
    "        return '0'\n",
    "    else:\n",
    "        return result\n",
    "        \n",
    "# Example usage:\n",
    "Sample_input1=[10,2]\n",
    "Sample_input2=[3,30,34,5,9]\n",
    "\n",
    "\n",
    "#User Input code\n",
    "#S=list(map(int,input().split(\",\")))\n",
    "\n",
    "\n",
    "print(largestNumber(Sample_input1))\n",
    "print(largestNumber(Sample_input2))\n"
   ]
  },
  {
   "cell_type": "markdown",
   "metadata": {},
   "source": [
    "--------------------------------------------------------------------------------------------------------------------------------------------------------"
   ]
  },
  {
   "cell_type": "markdown",
   "metadata": {},
   "source": [
    "**4. Store all the \"servlet-name\", and \"servlet-class\" to a csv file from the attached sample_json.json file using Python.**"
   ]
  },
  {
   "cell_type": "code",
   "execution_count": 28,
   "metadata": {},
   "outputs": [],
   "source": [
    "import json\n",
    "import csv\n",
    "\n",
    "Path=\"C:\\\\Users\\\\Hp\\\\Desktop\\\\adept ready\\\\DT A1 sample_json.json\"\n",
    "# Load JSON data from file\n",
    "with open(Path) as f:\n",
    "    data = json.load(f)\n",
    "\n",
    "# Extract \"servlet-name\" and \"servlet-class\" from the JSON data\n",
    "servlets = []\n",
    "for servlet in data['web-app']['servlet']:\n",
    "    servlet_name = servlet['servlet-name']\n",
    "    servlet_class = servlet['servlet-class']\n",
    "    servlets.append((servlet_name, servlet_class))\n",
    "\n",
    "# Write to CSV file\n",
    "with open('servlet_data.csv', 'w', newline='') as csvfile:\n",
    "    fieldnames = ['servlet-name', 'servlet-class']\n",
    "    \n",
    "    # Create a CSV DictWriter object, specifying the field names\n",
    "    writer = csv.DictWriter(csvfile, fieldnames=fieldnames)\n",
    "    \n",
    "    # Write the header row containing the field names\n",
    "    writer.writeheader()\n",
    "\n",
    "    # Iterate over each servlet extracted from the JSON data\n",
    "    for servlet in servlets:\n",
    "        writer.writerow({'servlet-name': servlet[0], 'servlet-class': servlet[1]})"
   ]
  },
  {
   "cell_type": "markdown",
   "metadata": {},
   "source": [
    "---------------------------------------------------------------------------------------------------------------------"
   ]
  },
  {
   "cell_type": "markdown",
   "metadata": {},
   "source": [
    "**1.Data set reference link: https://www.consumerfinance.gov/data-research/consumer-complaints/#download-the-data\n",
    "File data source: https://files.consumerfinance.gov/ccdb/complaints.csv.zip \n",
    "Problem statement:\n",
    "Download the data from the file data source and provide possible data insights.**\n"
   ]
  },
  {
   "cell_type": "markdown",
   "metadata": {},
   "source": [
    "**DATA PREPROCESSING**"
   ]
  },
  {
   "cell_type": "code",
   "execution_count": 18,
   "metadata": {},
   "outputs": [],
   "source": [
    "import pandas as pd\n",
    "\n",
    "Path=\"C:\\\\Users\\\\Hp\\\\Desktop\\\\adept ready\\\\complaints-2024-05-09_02_30.csv\"\n",
    "\n",
    "# Read CSV file into a Pandas DataFrame\n",
    "df = pd.read_csv(Path)\n"
   ]
  },
  {
   "cell_type": "code",
   "execution_count": 28,
   "metadata": {},
   "outputs": [
    {
     "name": "stdout",
     "output_type": "stream",
     "text": [
      "<class 'pandas.core.frame.DataFrame'>\n",
      "RangeIndex: 1552333 entries, 0 to 1552332\n",
      "Data columns (total 18 columns):\n",
      " #   Column                        Non-Null Count    Dtype  \n",
      "---  ------                        --------------    -----  \n",
      " 0   Date received                 1552333 non-null  object \n",
      " 1   Product                       1552333 non-null  object \n",
      " 2   Sub-product                   1552331 non-null  object \n",
      " 3   Issue                         1552331 non-null  object \n",
      " 4   Sub-issue                     1518925 non-null  object \n",
      " 5   Consumer complaint narrative  452976 non-null   object \n",
      " 6   Company public response       773839 non-null   object \n",
      " 7   Company                       1552333 non-null  object \n",
      " 8   State                         1548005 non-null  object \n",
      " 9   ZIP code                      1552281 non-null  object \n",
      " 10  Tags                          87945 non-null    object \n",
      " 11  Consumer consent provided?    1265770 non-null  object \n",
      " 12  Submitted via                 1552333 non-null  object \n",
      " 13  Date sent to company          1552333 non-null  object \n",
      " 14  Company response to consumer  1552321 non-null  object \n",
      " 15  Timely response?              1552333 non-null  object \n",
      " 16  Consumer disputed?            0 non-null        float64\n",
      " 17  Complaint ID                  1552333 non-null  int64  \n",
      "dtypes: float64(1), int64(1), object(16)\n",
      "memory usage: 213.2+ MB\n"
     ]
    }
   ],
   "source": [
    "# checking Data types\n",
    "df.info()"
   ]
  },
  {
   "cell_type": "code",
   "execution_count": 19,
   "metadata": {},
   "outputs": [
    {
     "data": {
      "text/plain": [
       "(1552333, 18)"
      ]
     },
     "execution_count": 19,
     "metadata": {},
     "output_type": "execute_result"
    }
   ],
   "source": [
    "# Shape of the DataFrame\n",
    "df.shape"
   ]
  },
  {
   "cell_type": "code",
   "execution_count": 20,
   "metadata": {},
   "outputs": [
    {
     "data": {
      "text/html": [
       "<div>\n",
       "<style scoped>\n",
       "    .dataframe tbody tr th:only-of-type {\n",
       "        vertical-align: middle;\n",
       "    }\n",
       "\n",
       "    .dataframe tbody tr th {\n",
       "        vertical-align: top;\n",
       "    }\n",
       "\n",
       "    .dataframe thead th {\n",
       "        text-align: right;\n",
       "    }\n",
       "</style>\n",
       "<table border=\"1\" class=\"dataframe\">\n",
       "  <thead>\n",
       "    <tr style=\"text-align: right;\">\n",
       "      <th></th>\n",
       "      <th>Date received</th>\n",
       "      <th>Product</th>\n",
       "      <th>Sub-product</th>\n",
       "      <th>Issue</th>\n",
       "      <th>Sub-issue</th>\n",
       "      <th>Consumer complaint narrative</th>\n",
       "      <th>Company public response</th>\n",
       "      <th>Company</th>\n",
       "      <th>State</th>\n",
       "      <th>ZIP code</th>\n",
       "      <th>Tags</th>\n",
       "      <th>Consumer consent provided?</th>\n",
       "      <th>Submitted via</th>\n",
       "      <th>Date sent to company</th>\n",
       "      <th>Company response to consumer</th>\n",
       "      <th>Timely response?</th>\n",
       "      <th>Consumer disputed?</th>\n",
       "      <th>Complaint ID</th>\n",
       "    </tr>\n",
       "  </thead>\n",
       "  <tbody>\n",
       "    <tr>\n",
       "      <th>0</th>\n",
       "      <td>03/29/24</td>\n",
       "      <td>Credit reporting or other personal consumer re...</td>\n",
       "      <td>Credit reporting</td>\n",
       "      <td>Problem with a company's investigation into an...</td>\n",
       "      <td>Their investigation did not fix an error on yo...</td>\n",
       "      <td>NaN</td>\n",
       "      <td>NaN</td>\n",
       "      <td>EQUIFAX, INC.</td>\n",
       "      <td>NY</td>\n",
       "      <td>10034</td>\n",
       "      <td>NaN</td>\n",
       "      <td>NaN</td>\n",
       "      <td>Web</td>\n",
       "      <td>03/29/24</td>\n",
       "      <td>In progress</td>\n",
       "      <td>Yes</td>\n",
       "      <td>NaN</td>\n",
       "      <td>8653977</td>\n",
       "    </tr>\n",
       "    <tr>\n",
       "      <th>1</th>\n",
       "      <td>04/06/24</td>\n",
       "      <td>Credit reporting or other personal consumer re...</td>\n",
       "      <td>Credit reporting</td>\n",
       "      <td>Problem with a company's investigation into an...</td>\n",
       "      <td>Their investigation did not fix an error on yo...</td>\n",
       "      <td>NaN</td>\n",
       "      <td>NaN</td>\n",
       "      <td>Experian Information Solutions Inc.</td>\n",
       "      <td>AR</td>\n",
       "      <td>72204</td>\n",
       "      <td>NaN</td>\n",
       "      <td>NaN</td>\n",
       "      <td>Web</td>\n",
       "      <td>04/06/24</td>\n",
       "      <td>In progress</td>\n",
       "      <td>Yes</td>\n",
       "      <td>NaN</td>\n",
       "      <td>8710328</td>\n",
       "    </tr>\n",
       "    <tr>\n",
       "      <th>2</th>\n",
       "      <td>03/23/24</td>\n",
       "      <td>Credit reporting or other personal consumer re...</td>\n",
       "      <td>Credit reporting</td>\n",
       "      <td>Improper use of your report</td>\n",
       "      <td>Reporting company used your report improperly</td>\n",
       "      <td>NaN</td>\n",
       "      <td>NaN</td>\n",
       "      <td>Early Warning Services, LLC</td>\n",
       "      <td>MS</td>\n",
       "      <td>39759</td>\n",
       "      <td>NaN</td>\n",
       "      <td>NaN</td>\n",
       "      <td>Web</td>\n",
       "      <td>03/23/24</td>\n",
       "      <td>Closed with explanation</td>\n",
       "      <td>Yes</td>\n",
       "      <td>NaN</td>\n",
       "      <td>8611411</td>\n",
       "    </tr>\n",
       "    <tr>\n",
       "      <th>3</th>\n",
       "      <td>03/07/24</td>\n",
       "      <td>Credit reporting or other personal consumer re...</td>\n",
       "      <td>Credit reporting</td>\n",
       "      <td>Problem with a company's investigation into an...</td>\n",
       "      <td>Their investigation did not fix an error on yo...</td>\n",
       "      <td>I disputed a list of accounts that were not ve...</td>\n",
       "      <td>Company has responded to the consumer and the ...</td>\n",
       "      <td>TRANSUNION INTERMEDIATE HOLDINGS, INC.</td>\n",
       "      <td>NY</td>\n",
       "      <td>XXXXX</td>\n",
       "      <td>NaN</td>\n",
       "      <td>Consent provided</td>\n",
       "      <td>Web</td>\n",
       "      <td>03/07/24</td>\n",
       "      <td>Closed with non-monetary relief</td>\n",
       "      <td>Yes</td>\n",
       "      <td>NaN</td>\n",
       "      <td>8501851</td>\n",
       "    </tr>\n",
       "    <tr>\n",
       "      <th>4</th>\n",
       "      <td>03/25/24</td>\n",
       "      <td>Credit reporting or other personal consumer re...</td>\n",
       "      <td>Credit reporting</td>\n",
       "      <td>Problem with a company's investigation into an...</td>\n",
       "      <td>Was not notified of investigation status or re...</td>\n",
       "      <td>I have consistently maintained on-time payment...</td>\n",
       "      <td>Company has responded to the consumer and the ...</td>\n",
       "      <td>TRANSUNION INTERMEDIATE HOLDINGS, INC.</td>\n",
       "      <td>IL</td>\n",
       "      <td>60440</td>\n",
       "      <td>NaN</td>\n",
       "      <td>Consent provided</td>\n",
       "      <td>Web</td>\n",
       "      <td>03/25/24</td>\n",
       "      <td>Closed with non-monetary relief</td>\n",
       "      <td>Yes</td>\n",
       "      <td>NaN</td>\n",
       "      <td>8617108</td>\n",
       "    </tr>\n",
       "  </tbody>\n",
       "</table>\n",
       "</div>"
      ],
      "text/plain": [
       "  Date received                                            Product  \\\n",
       "0      03/29/24  Credit reporting or other personal consumer re...   \n",
       "1      04/06/24  Credit reporting or other personal consumer re...   \n",
       "2      03/23/24  Credit reporting or other personal consumer re...   \n",
       "3      03/07/24  Credit reporting or other personal consumer re...   \n",
       "4      03/25/24  Credit reporting or other personal consumer re...   \n",
       "\n",
       "        Sub-product                                              Issue  \\\n",
       "0  Credit reporting  Problem with a company's investigation into an...   \n",
       "1  Credit reporting  Problem with a company's investigation into an...   \n",
       "2  Credit reporting                        Improper use of your report   \n",
       "3  Credit reporting  Problem with a company's investigation into an...   \n",
       "4  Credit reporting  Problem with a company's investigation into an...   \n",
       "\n",
       "                                           Sub-issue  \\\n",
       "0  Their investigation did not fix an error on yo...   \n",
       "1  Their investigation did not fix an error on yo...   \n",
       "2      Reporting company used your report improperly   \n",
       "3  Their investigation did not fix an error on yo...   \n",
       "4  Was not notified of investigation status or re...   \n",
       "\n",
       "                        Consumer complaint narrative  \\\n",
       "0                                                NaN   \n",
       "1                                                NaN   \n",
       "2                                                NaN   \n",
       "3  I disputed a list of accounts that were not ve...   \n",
       "4  I have consistently maintained on-time payment...   \n",
       "\n",
       "                             Company public response  \\\n",
       "0                                                NaN   \n",
       "1                                                NaN   \n",
       "2                                                NaN   \n",
       "3  Company has responded to the consumer and the ...   \n",
       "4  Company has responded to the consumer and the ...   \n",
       "\n",
       "                                  Company State ZIP code Tags  \\\n",
       "0                           EQUIFAX, INC.    NY    10034  NaN   \n",
       "1     Experian Information Solutions Inc.    AR    72204  NaN   \n",
       "2             Early Warning Services, LLC    MS    39759  NaN   \n",
       "3  TRANSUNION INTERMEDIATE HOLDINGS, INC.    NY    XXXXX  NaN   \n",
       "4  TRANSUNION INTERMEDIATE HOLDINGS, INC.    IL    60440  NaN   \n",
       "\n",
       "  Consumer consent provided? Submitted via Date sent to company  \\\n",
       "0                        NaN           Web             03/29/24   \n",
       "1                        NaN           Web             04/06/24   \n",
       "2                        NaN           Web             03/23/24   \n",
       "3           Consent provided           Web             03/07/24   \n",
       "4           Consent provided           Web             03/25/24   \n",
       "\n",
       "      Company response to consumer Timely response?  Consumer disputed?  \\\n",
       "0                      In progress              Yes                 NaN   \n",
       "1                      In progress              Yes                 NaN   \n",
       "2          Closed with explanation              Yes                 NaN   \n",
       "3  Closed with non-monetary relief              Yes                 NaN   \n",
       "4  Closed with non-monetary relief              Yes                 NaN   \n",
       "\n",
       "   Complaint ID  \n",
       "0       8653977  \n",
       "1       8710328  \n",
       "2       8611411  \n",
       "3       8501851  \n",
       "4       8617108  "
      ]
     },
     "execution_count": 20,
     "metadata": {},
     "output_type": "execute_result"
    }
   ],
   "source": [
    "# Display the DataFrame\n",
    "df.head()"
   ]
  },
  {
   "cell_type": "markdown",
   "metadata": {},
   "source": [
    "**We have extracted data from the past year, resulting in a dataset comprising 1,552,333 rows and 18 columns.**"
   ]
  },
  {
   "cell_type": "code",
   "execution_count": 25,
   "metadata": {},
   "outputs": [
    {
     "name": "stdout",
     "output_type": "stream",
     "text": [
      "0\n"
     ]
    }
   ],
   "source": [
    "#Duplicate value identification\n",
    "duplicate_rows = df[df.duplicated()]\n",
    "print(len(duplicate_rows))"
   ]
  },
  {
   "cell_type": "markdown",
   "metadata": {},
   "source": [
    "**There is no duplicate rows presented in dataset.**"
   ]
  },
  {
   "cell_type": "code",
   "execution_count": 26,
   "metadata": {},
   "outputs": [
    {
     "data": {
      "text/plain": [
       "Date received                         0\n",
       "Product                               0\n",
       "Sub-product                           2\n",
       "Issue                                 2\n",
       "Sub-issue                         33408\n",
       "Consumer complaint narrative    1099357\n",
       "Company public response          778494\n",
       "Company                               0\n",
       "State                              4328\n",
       "ZIP code                             52\n",
       "Tags                            1464388\n",
       "Consumer consent provided?       286563\n",
       "Submitted via                         0\n",
       "Date sent to company                  0\n",
       "Company response to consumer         12\n",
       "Timely response?                      0\n",
       "Consumer disputed?              1552333\n",
       "Complaint ID                          0\n",
       "dtype: int64"
      ]
     },
     "execution_count": 26,
     "metadata": {},
     "output_type": "execute_result"
    }
   ],
   "source": [
    "#Null value identification\n",
    "df.isna().sum()"
   ]
  },
  {
   "cell_type": "markdown",
   "metadata": {},
   "source": [
    "\n",
    "Consumer complaint narrative: 1,099,357 missing values.\n",
    "\n",
    "\n",
    "Company public response: 778,494 missing values.\n",
    "\n",
    "\n",
    "Tags: 1,464,388 missing values.\n",
    "\n",
    "\n",
    "Consumer consent provided?: 286,563 missing values.\n",
    "\n",
    "\n",
    "Consumer disputed?: 1,552,333 missing values.\n",
    "\n",
    "\n",
    "\n",
    "**These are the few columns has highest count of Nan values.Since we dropping those columns for getting better insights about the data** \n",
    "**NOTE: Kindly visit the link attached below to know about each columns**\n",
    "\n",
    "\n",
    "https://www.consumerfinance.gov/complaint/data-use/"
   ]
  },
  {
   "cell_type": "code",
   "execution_count": 34,
   "metadata": {},
   "outputs": [],
   "source": [
    "df.drop(columns=[\"Consumer complaint narrative\",\"Tags\",\"Consumer consent provided?\",\n",
    "                 \"Company public response\",\"Consumer disputed?\"],inplace=True)"
   ]
  },
  {
   "cell_type": "code",
   "execution_count": 39,
   "metadata": {},
   "outputs": [],
   "source": [
    "# Replace null values in specific columns with 'unknown'\n",
    "columns_to_replace = [\"Issue\",\"Sub-product\",\"Sub-issue\",\"State\",\"ZIP code\",\"Company response to consumer\"]\n",
    "df[columns_to_replace] = df[columns_to_replace].fillna('unknown')\n"
   ]
  },
  {
   "cell_type": "code",
   "execution_count": 42,
   "metadata": {},
   "outputs": [
    {
     "data": {
      "text/plain": [
       "(1552333, 13)"
      ]
     },
     "execution_count": 42,
     "metadata": {},
     "output_type": "execute_result"
    }
   ],
   "source": [
    "df.shape"
   ]
  },
  {
   "cell_type": "markdown",
   "metadata": {},
   "source": [
    "**After preprocessing we got dataset of 1,552,333 rows and 13 columns.**"
   ]
  },
  {
   "cell_type": "code",
   "execution_count": 44,
   "metadata": {},
   "outputs": [
    {
     "data": {
      "text/plain": [
       "Date received                   0\n",
       "Product                         0\n",
       "Sub-product                     0\n",
       "Issue                           0\n",
       "Sub-issue                       0\n",
       "Company                         0\n",
       "State                           0\n",
       "ZIP code                        0\n",
       "Submitted via                   0\n",
       "Date sent to company            0\n",
       "Company response to consumer    0\n",
       "Timely response?                0\n",
       "Complaint ID                    0\n",
       "dtype: int64"
      ]
     },
     "execution_count": 44,
     "metadata": {},
     "output_type": "execute_result"
    }
   ],
   "source": [
    "df.isna().sum()"
   ]
  },
  {
   "cell_type": "code",
   "execution_count": 92,
   "metadata": {},
   "outputs": [],
   "source": [
    "\n",
    "file_path = 'complaints_data.csv'\n",
    "df.to_csv(file_path, index=False)"
   ]
  },
  {
   "cell_type": "markdown",
   "metadata": {},
   "source": [
    "**EXPORTED AS complaints_data.csv FILE**"
   ]
  }
 ],
 "metadata": {
  "kernelspec": {
   "display_name": "Python 3",
   "language": "python",
   "name": "python3"
  },
  "language_info": {
   "codemirror_mode": {
    "name": "ipython",
    "version": 3
   },
   "file_extension": ".py",
   "mimetype": "text/x-python",
   "name": "python",
   "nbconvert_exporter": "python",
   "pygments_lexer": "ipython3",
   "version": "3.12.0"
  }
 },
 "nbformat": 4,
 "nbformat_minor": 2
}
